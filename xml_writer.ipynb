{
 "cells": [
  {
   "cell_type": "code",
   "execution_count": 4,
   "metadata": {},
   "outputs": [],
   "source": [
    "import numpy as np"
   ]
  },
  {
   "cell_type": "code",
   "execution_count": 5,
   "metadata": {},
   "outputs": [],
   "source": [
    "# angstroem, deg, kcal/mol, charge\n",
    "# type, element, bond, angle, distance, energy, scale, charge\n",
    "d_uff = np.dtype([\n",
    "    (\"type\", np.unicode_, 8), \n",
    "    (\"element\", np.unicode_, 2), \n",
    "    (\"bond\", \"d\"),\n",
    "    (\"angle\", \"d\"),\n",
    "    (\"distance\", \"d\"),\n",
    "    (\"energy\", \"d\"),\n",
    "    (\"scale\", \"d\"),\n",
    "    (\"charge\", \"d\"),\n",
    "])\n",
    "uff_data = np.loadtxt(\"uff.txt\", dtype=d_uff)\n",
    "#print(uff_data[0][\"type\"])"
   ]
  },
  {
   "cell_type": "code",
   "execution_count": 30,
   "metadata": {},
   "outputs": [],
   "source": [
    "mass_dict = {}\n",
    "with open(\"masses.txt\") as f:\n",
    "    for line in f.readlines():\n",
    "        elem, mass = line.split()\n",
    "        mass_dict[elem] = mass\n",
    "#print(mass_dict)"
   ]
  },
  {
   "cell_type": "code",
   "execution_count": 33,
   "metadata": {},
   "outputs": [],
   "source": [
    "with open(\"uff.xml\", \"w\") as f:\n",
    "    f.write(\"<ForceField>\\n <AtomTypes>\\n\")\n",
    "    for atom in uff_data:\n",
    "        try:\n",
    "            f.write(\n",
    "                '  <Type name=\"{0}\" class=\"{0}\" element=\"{1}\" mass=\"{2}\" def=\"\" desc=\"\"/>\\n'.format(\n",
    "                    atom[\"type\"], atom[\"element\"], mass_dict[atom[\"element\"]]\n",
    "                )\n",
    "            )\n",
    "        except KeyError:\n",
    "            pass # if we don't have the mass, skip it for now\n",
    "    f.write(' </AtomTypes>\\n <NonbondedForce coulomb14scale=\"0.833333\" lj14scale=\"0.5\">')\n",
    "    for atom in uff_data:\n",
    "        try:\n",
    "            mass_dict[atom[\"element\"]]\n",
    "            f.write(\n",
    "                '  <Atom type=\"{0}\" charge=\"{1}\" sigma=\"{2}\" epsilon=\"{3}\"/>\\n'.format(\n",
    "                    atom[\"type\"], atom[\"charge\"], atom[\"distance\"], atom[\"energy\"]\n",
    "                )\n",
    "            )\n",
    "        except KeyError:\n",
    "            pass\n",
    "    f.write(' </NonbondedForce>\\n</ForceField>')"
   ]
  },
  {
   "cell_type": "code",
   "execution_count": 2,
   "metadata": {},
   "outputs": [
    {
     "name": "stdout",
     "output_type": "stream",
     "text": [
      "<ForceField>\n",
      " <AtomTypes>\n",
      "  <Type name=\"opls_135\" class=\"CT\" element=\"C\" mass=\"12.01100\" def=\"[C;X4](H)(H)(H)C\" desc=\"alkane CH3\"/>\n",
      "  <Type name=\"opls_136\" class=\"CT\" element=\"C\" mass=\"12.01100\" def=\"O\" desc=\"alkane CH2\"/>\n",
      "  <Type name=\"opls_137\" class=\"CT\" element=\"C\" mass=\"12.01100\" def=\"O\" desc=\"alkane CH\"/>\n"
     ]
    }
   ],
   "source": [
    "!head -5 forcefield_template.xml"
   ]
  },
  {
   "cell_type": "code",
   "execution_count": 12,
   "metadata": {},
   "outputs": [
    {
     "data": {
      "text/plain": [
       "0.026000000000000023"
      ]
     },
     "execution_count": 12,
     "metadata": {},
     "output_type": "execute_result"
    }
   ],
   "source": [
    "\n",
    "1.54 - 0.757 *2\n"
   ]
  },
  {
   "cell_type": "code",
   "execution_count": 15,
   "metadata": {},
   "outputs": [],
   "source": [
    "with open(\"bonds.xml\", \"w\") as f:\n",
    "    f.write(\" <HarmonicBondForce>\\n\")\n",
    "    for i,atom1 in enumerate(uff_data):\n",
    "        for atom2 in uff_data[i:]:\n",
    "            # so in the rappe paper r_ij is supposed to be \n",
    "            # r_ij = r_i + r_j +r_BO + r_EN \n",
    "            # but to simplify things, I'm going to try just \n",
    "            # r_ij = r_i + r_j + 0.026\n",
    "            # 0.026 is a correction so the c-c bond comes out right.\n",
    "            length = atom1[\"bond\"] + atom2[\"bond\"] + 0.026 #angstroem\n",
    "            \n",
    "            # k_ij = 664.12 (Z*_i x Z*_j)/(r_ij^3) \n",
    "            energy = 664.12 * atom1[\"charge\"] * atom2[\"charge\"]/ length**3\n",
    "            \n",
    "            f.write(\n",
    "                '  <Bond class1=\"{}\" class2=\"{}\" length=\"{:.3f}\" k=\"{:.3f}\"/>\\n'.format(\n",
    "                    atom1[\"type\"], atom2[\"type\"], length, energy\n",
    "                )\n",
    "            )\n",
    "\n",
    "    f.write(' </HarmonicBondForce>')\n"
   ]
  },
  {
   "cell_type": "code",
   "execution_count": null,
   "metadata": {},
   "outputs": [],
   "source": []
  }
 ],
 "metadata": {
  "kernelspec": {
   "display_name": "Python 3",
   "language": "python",
   "name": "python3"
  },
  "language_info": {
   "codemirror_mode": {
    "name": "ipython",
    "version": 3
   },
   "file_extension": ".py",
   "mimetype": "text/x-python",
   "name": "python",
   "nbconvert_exporter": "python",
   "pygments_lexer": "ipython3",
   "version": "3.7.3"
  }
 },
 "nbformat": 4,
 "nbformat_minor": 4
}
