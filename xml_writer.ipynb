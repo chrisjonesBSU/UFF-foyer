{
 "cells": [
  {
   "cell_type": "code",
   "execution_count": 4,
   "metadata": {},
   "outputs": [],
   "source": [
    "import numpy as np"
   ]
  },
  {
   "cell_type": "code",
   "execution_count": 29,
   "metadata": {},
   "outputs": [],
   "source": [
    "# angstroem, deg, kcal/mol, charge\n",
    "# type, element, bond, angle, distance, energy, scale, charge\n",
    "d_uff = np.dtype([\n",
    "    (\"type\", np.unicode_, 8), \n",
    "    (\"element\", np.unicode_, 2), \n",
    "    (\"bond\", \"d\"),\n",
    "    (\"angle\", \"d\"),\n",
    "    (\"distance\", \"d\"),\n",
    "    (\"energy\", \"d\"),\n",
    "    (\"scale\", \"d\"),\n",
    "    (\"charge\", \"d\"),\n",
    "])\n",
    "uff_data = np.loadtxt(\"uff.txt\", dtype=d_uff)\n",
    "#print(uff_data[0][\"type\"])"
   ]
  },
  {
   "cell_type": "code",
   "execution_count": 30,
   "metadata": {},
   "outputs": [],
   "source": [
    "mass_dict = {}\n",
    "with open(\"masses.txt\") as f:\n",
    "    for line in f.readlines():\n",
    "        elem, mass = line.split()\n",
    "        mass_dict[elem] = mass\n",
    "#print(mass_dict)"
   ]
  },
  {
   "cell_type": "code",
   "execution_count": 33,
   "metadata": {},
   "outputs": [],
   "source": [
    "with open(\"uff.xml\", \"w\") as f:\n",
    "    f.write(\"<ForceField>\\n <AtomTypes>\\n\")\n",
    "    for atom in uff_data:\n",
    "        try:\n",
    "            f.write(\n",
    "                '  <Type name=\"{0}\" class=\"{0}\" element=\"{1}\" mass=\"{2}\" def=\"\" desc=\"\"/>\\n'.format(\n",
    "                    atom[\"type\"], atom[\"element\"], mass_dict[atom[\"element\"]]\n",
    "                )\n",
    "            )\n",
    "        except KeyError:\n",
    "            pass # if we don't have the mass, skip it for now\n",
    "    f.write(' </AtomTypes>\\n <NonbondedForce coulomb14scale=\"0.833333\" lj14scale=\"0.5\">')\n",
    "    for atom in uff_data:\n",
    "        try:\n",
    "            mass_dict[atom[\"element\"]]\n",
    "            f.write(\n",
    "                '  <Atom type=\"{0}\" charge=\"{1}\" sigma=\"{2}\" epsilon=\"{3}\"/>\\n'.format(\n",
    "                    atom[\"type\"], atom[\"charge\"], atom[\"distance\"], atom[\"energy\"]\n",
    "                )\n",
    "            )\n",
    "        except KeyError:\n",
    "            pass\n",
    "    f.write(' </NonbondedForce>\\n</ForceField>')"
   ]
  },
  {
   "cell_type": "code",
   "execution_count": 1,
   "metadata": {},
   "outputs": [
    {
     "name": "stdout",
     "output_type": "stream",
     "text": [
      "<ForceField>\n",
      " <AtomTypes>\n",
      "  <Type name=\"opls_135\" class=\"CT\" element=\"C\" mass=\"12.01100\" def=\"[C;X4](H)(H)(H)C\" desc=\"alkane CH3\"/>\n",
      "  <Type name=\"opls_136\" class=\"CT\" element=\"C\" mass=\"12.01100\" def=\"O\" desc=\"alkane CH2\"/>\n",
      "  <Type name=\"opls_137\" class=\"CT\" element=\"C\" mass=\"12.01100\" def=\"O\" desc=\"alkane CH\"/>\n",
      "  <Type name=\"opls_138\" class=\"CT\" element=\"C\" mass=\"12.01100\" def=\"O\" desc=\"alkane CH4\"/>\n",
      "  <Type name=\"opls_139\" class=\"CT\" element=\"C\" mass=\"12.01100\" def=\"O\" desc=\"alkane C\"/>\n",
      "  <Type name=\"opls_140\" class=\"HC\" element=\"H\" mass=\"1.00800\"  def=\"H[C;X4]\" desc=\"alkane H\"/>\n",
      "  <Type name=\"opls_142\" class=\"CM\" element=\"C\" mass=\"12.01100\" def=\"[C;X3](H)(C)C\" desc=\"alkene C (RH-C=)\"/>\n",
      "  <Type name=\"opls_143\" class=\"CM\" element=\"C\" mass=\"12.01100\" def=\"O\" desc=\"alkene C (H2-C=)\"/>\n",
      "  <Type name=\"opls_144\" class=\"HC\" element=\"H\" mass=\"1.00800\"  def=\"H[C;X3]\" desc=\"alkene H\"/>\n",
      "  <Type name=\"opls_145\" class=\"CA\" element=\"C\" mass=\"12.01100\" def=\"O\" desc=\"benzene C\"/>\n",
      "  <Type name=\"opls_146\" class=\"HA\" element=\"H\" mass=\"1.00800\"  def=\"O\" desc=\"benzene H\"/>\n",
      " </AtomTypes>\n",
      "\n",
      " <!-- Shown below are example entries for force field parameters.\n",
      "\n",
      " Please refer to the OpenMM .xml specs for more info:\n",
      " http://docs.openmm.org/7.0.0/userguide/application.html#writing-the-xml-file\n",
      " <NonbondedForce coulomb14scale=\"0.833333\" lj14scale=\"0.5\">\n",
      "  <Atom type=\"opls_135\" charge=\"-0.4157\" sigma=\"0.324999852378\" epsilon=\"0.71128\"/>\n",
      " </NonbondedForce>\n",
      "\n",
      " <HarmonicBondForce>\n",
      "  <Bond class1=\"CT\" class2=\"CT\" length=\"0.14\" k=\"392459.1999999999\"/>\n",
      "  <Bond class1=\"CT\" class2=\"HC\" length=\"0.10800000000000001\" k=\"307105.59999999986\"/>\n",
      " </HarmonicBondForce>\n",
      " <HarmonicAngleForce>\n",
      "  <Angle class1=\"CT\" class2=\"CT\" class3=\"HC\" angle=\"2.09439510239\" k=\"669.44\"/>\n",
      " </HarmonicAngleForce>\n",
      " <PeriodicTorsionForce>\n",
      "  <Proper class1=\"CT\" class2=\"CT\" class3=\"CT\" class4=\"HC\" periodicity1=\"2\" phase1=\"3.14159265359\" k1=\"15.167\"/>\n",
      "  <Improper class1=\"CT\" class2=\"CT\" class3=\"CT\" class4=\"CT\" periodicity1=\"2\" phase1=\"3.14159265359\" k1=\"4.6024\"/>\n",
      " </PeriodicTorsionForce>\n",
      " -->\n",
      "</ForceField>\n"
     ]
    }
   ],
   "source": [
    "!cat forcefield_template.xml"
   ]
  },
  {
   "cell_type": "code",
   "execution_count": null,
   "metadata": {},
   "outputs": [],
   "source": []
  }
 ],
 "metadata": {
  "kernelspec": {
   "display_name": "Python 3",
   "language": "python",
   "name": "python3"
  },
  "language_info": {
   "codemirror_mode": {
    "name": "ipython",
    "version": 3
   },
   "file_extension": ".py",
   "mimetype": "text/x-python",
   "name": "python",
   "nbconvert_exporter": "python",
   "pygments_lexer": "ipython3",
   "version": "3.7.6"
  }
 },
 "nbformat": 4,
 "nbformat_minor": 4
}
