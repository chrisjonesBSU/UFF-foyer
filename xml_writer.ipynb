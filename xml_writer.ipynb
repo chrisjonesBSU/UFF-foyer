{
 "cells": [
  {
   "cell_type": "code",
   "execution_count": null,
   "metadata": {},
   "outputs": [],
   "source": [
    "import numpy as np\n",
    "#import xml.etree.ElementTree as ET\n",
    "from lxml import objectify"
   ]
  },
  {
   "cell_type": "code",
   "execution_count": 2,
   "metadata": {},
   "outputs": [],
   "source": [
    "# I don't want to have to redo all the smarts definitions\n",
    "with open(\"uff-copy.xml\", \"r\") as f:\n",
    "    data=f.readlines()\n",
    "xml_str = \"\".join(data)\n",
    "root = objectify.fromstring(xml_str)"
   ]
  },
  {
   "cell_type": "code",
   "execution_count": 3,
   "metadata": {},
   "outputs": [],
   "source": [
    "uff_dict = {}\n",
    "for a in root.AtomTypes[0].Type:\n",
    "    #print(a.attrib)\n",
    "    try:\n",
    "        defn = a.attrib['def']\n",
    "    except KeyError:\n",
    "        defn = None\n",
    "    try:\n",
    "        desc = a.attrib['desc']\n",
    "    except KeyError:\n",
    "        desc = None\n",
    "    try:\n",
    "        overrides = a.attrib['overrides']\n",
    "    except KeyError:\n",
    "        overrides = None\n",
    "    a_dict = {\n",
    "        \"def\" : defn,\n",
    "        \"desc\" : desc,\n",
    "        \"overrides\" : overrides\n",
    "    }\n",
    "    uff_dict[a.attrib[\"name\"]] = a_dict"
   ]
  },
  {
   "cell_type": "code",
   "execution_count": 5,
   "metadata": {},
   "outputs": [],
   "source": [
    "# angstroem, deg, kcal/mol, charge\n",
    "# type, element, bond, angle, distance, energy, scale, charge\n",
    "d_uff = np.dtype([\n",
    "    (\"type\", np.unicode_, 8), \n",
    "    (\"element\", np.unicode_, 2), \n",
    "    (\"bond\", \"d\"),\n",
    "    (\"angle\", \"d\"),\n",
    "    (\"distance\", \"d\"),\n",
    "    (\"energy\", \"d\"),\n",
    "    (\"scale\", \"d\"),\n",
    "    (\"charge\", \"d\"),\n",
    "])\n",
    "uff_data = np.loadtxt(\"uff.txt\", dtype=d_uff)\n",
    "#print(uff_data[0][\"type\"])"
   ]
  },
  {
   "cell_type": "code",
   "execution_count": 6,
   "metadata": {},
   "outputs": [],
   "source": [
    "mass_dict = {}\n",
    "with open(\"masses.txt\") as f:\n",
    "    for line in f.readlines():\n",
    "        elem, mass = line.split()\n",
    "        mass_dict[elem] = mass\n",
    "#print(mass_dict)"
   ]
  },
  {
   "cell_type": "code",
   "execution_count": 12,
   "metadata": {},
   "outputs": [],
   "source": [
    "with open(\"uff.xml\", \"w\") as f:\n",
    "    f.write('<ForceField version=\"0.0.1\" name=\"UFF\">\\n\\t<FFMetaData>\\n')\n",
    "    f.write('\\t\\t<Units energy=\"kcal/mol\" distance=\"angstrom\" mass=\"amu\" charge=\"e\"/>\\n')\n",
    "    f.write('\\t</FFMetaData>\\n\\t<AtomTypes expression=\"4*epsilon*((sigma/r)**12 - (sigma/r)**6)\">\\n')\n",
    "    f.write('\\t\\t<ParametersUnitDef parameter=\"sigma\" unit=\"angstrom\"/>\\n')\n",
    "    f.write('\\t\\t<ParametersUnitDef parameter=\"epsilon\" unit=\"kcal/mol\"/>\\n')\n",
    "    for atom in uff_data:\n",
    "        a_str = \"\"\n",
    "        for param in [\"def\", \"overrides\", \"desc\"]:\n",
    "            try:\n",
    "                val = uff_dict[atom[\"type\"]][param]\n",
    "            except KeyError:\n",
    "                val = None\n",
    "            if val != None:\n",
    "                a_str += f' {param} = \"{val}\"'\n",
    "        try:\n",
    "            f.write(\n",
    "                '\\t\\t<AtomType name=\"{}\" element=\"{}\" mass=\"{}\"{}/>\\n'.format(\n",
    "                    atom[\"type\"], atom[\"element\"], mass_dict[atom[\"element\"]], a_str\n",
    "                )\n",
    "            )\n",
    "            f.write(\n",
    "                '\\t\\t\\t<Parameters>\\n\\t\\t\\t\\t<Parameter name=\"sigma\" value=\"{}\">\\n'.format(\n",
    "                atom[\"distance\"]\n",
    "                )\n",
    "            )\n",
    "            f.write(\n",
    "                '\\t\\t\\t\\t<Parameter name=\"epsilon\" value=\"{}\">\\n\\t\\t\\t</Parameters>\\n'.format(\n",
    "                atom[\"energy\"]\n",
    "                )\n",
    "            )\n",
    "            f.write('\\t\\t</AtomType>\\n')\n",
    "        except KeyError:\n",
    "            pass # if we don't have the mass, skip it for now\n",
    "    f.write('\\t</AtomTypes>\\n')\n",
    "    f.write('\\t<HarmonicBondForce expresion=\"1/2*k*(r-length)**2\">\\n')\n",
    "    f.write('\\t<ParametersUnitDef parameter=\"length\" unit=\"angstrom\"/>\\n')\n",
    "    f.write('\\t<ParametersUnitDef parameter=\"k\" unit=\"(kcal/mol)/angstrom**2\"/>\\n')\n",
    "    for i,atom1 in enumerate(uff_data):\n",
    "        for atom2 in uff_data[i:]:\n",
    "            try:\n",
    "                mass_dict[atom1[\"element\"]]\n",
    "                mass_dict[atom2[\"element\"]]\n",
    "            except KeyError:\n",
    "                continue\n",
    "            # so in the rappe paper r_ij is supposed to be \n",
    "            # r_ij = r_i + r_j +r_BO + r_EN \n",
    "            # but to simplify things, I'm going to try just \n",
    "            # r_ij = r_i + r_j + 0.026\n",
    "            # 0.026 is a correction so the c-c bond comes out right.\n",
    "            length = atom1[\"bond\"] + atom2[\"bond\"] + 0.026 #angstroem\n",
    "            \n",
    "            # k_ij = 664.12 (Z*_i x Z*_j)/(r_ij^3) \n",
    "            energy = 664.12 * atom1[\"charge\"] * atom2[\"charge\"]/ length**3\n",
    "            \n",
    "            f.write(\n",
    "                '\\t\\t<Bond name1=\"{}\" name2=\"{}\" length=\"{:.3f}\" k=\"{:.3f}\"/>\\n'.format(\n",
    "                    atom1[\"type\"], atom2[\"type\"], length, energy\n",
    "                )\n",
    "            )\n",
    "\n",
    "    f.write('\\t</HarmonicBondForce>\\n')\n",
    "    f.write('</ForceField>')"
   ]
  },
  {
   "cell_type": "code",
   "execution_count": null,
   "metadata": {},
   "outputs": [],
   "source": []
  }
 ],
 "metadata": {
  "kernelspec": {
   "display_name": "Python 3",
   "language": "python",
   "name": "python3"
  },
  "language_info": {
   "codemirror_mode": {
    "name": "ipython",
    "version": 3
   },
   "file_extension": ".py",
   "mimetype": "text/x-python",
   "name": "python",
   "nbconvert_exporter": "python",
   "pygments_lexer": "ipython3",
   "version": "3.7.6"
  }
 },
 "nbformat": 4,
 "nbformat_minor": 4
}
